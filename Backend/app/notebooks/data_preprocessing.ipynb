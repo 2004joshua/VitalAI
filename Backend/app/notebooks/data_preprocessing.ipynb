{
 "cells": [
  {
   "cell_type": "code",
   "execution_count": 1,
   "id": "9926fef7-00f9-494c-a05d-4fcd17d1b621",
   "metadata": {},
   "outputs": [
    {
     "name": "stdout",
     "output_type": "stream",
     "text": [
      "First few rows of the main dataset:\n",
      "            Disease   Symptom_1              Symptom_2              Symptom_3  \\\n",
      "0  Fungal infection     itching              skin_rash   nodal_skin_eruptions   \n",
      "1  Fungal infection   skin_rash   nodal_skin_eruptions    dischromic _patches   \n",
      "2  Fungal infection     itching   nodal_skin_eruptions    dischromic _patches   \n",
      "3  Fungal infection     itching              skin_rash    dischromic _patches   \n",
      "4  Fungal infection     itching              skin_rash   nodal_skin_eruptions   \n",
      "\n",
      "              Symptom_4 Symptom_5 Symptom_6 Symptom_7 Symptom_8 Symptom_9  \\\n",
      "0   dischromic _patches                                                     \n",
      "1                                                                           \n",
      "2                                                                           \n",
      "3                                                                           \n",
      "4                                                                           \n",
      "\n",
      "  Symptom_10 Symptom_11 Symptom_12 Symptom_13 Symptom_14 Symptom_15  \\\n",
      "0                                                                     \n",
      "1                                                                     \n",
      "2                                                                     \n",
      "3                                                                     \n",
      "4                                                                     \n",
      "\n",
      "  Symptom_16 Symptom_17  \n",
      "0                        \n",
      "1                        \n",
      "2                        \n",
      "3                        \n",
      "4                        \n"
     ]
    }
   ],
   "source": [
    "import pandas as pd\n",
    "from sklearn.preprocessing import LabelEncoder\n",
    "\n",
    "data_set_df = pd.read_csv('../../datasets/main_dataset.csv')\n",
    "data_set_df = data_set_df.fillna('')\n",
    "print(\"First few rows of the main dataset:\")\n",
    "print(data_set_df.head())"
   ]
  },
  {
   "cell_type": "code",
   "execution_count": 2,
   "id": "5a846a07-6892-4eba-b1a6-f1e67a996247",
   "metadata": {},
   "outputs": [],
   "source": [
    "symptoms = [f'Symptom_{i}' for i in range(1, 18)]\n",
    "unique_symptoms_main = pd.unique(data_set_df[symptoms].values.ravel('K'))"
   ]
  },
  {
   "cell_type": "code",
   "execution_count": 3,
   "id": "05ef3dfb-6c43-4689-aff4-330110272f9f",
   "metadata": {},
   "outputs": [],
   "source": [
    "symptom_severity_path = '../../datasets/Symptom-severity.csv'\n",
    "ss_data = pd.read_csv(symptom_severity_path)"
   ]
  },
  {
   "cell_type": "code",
   "execution_count": 4,
   "id": "9a221640-b691-4fd0-8f8b-25d84b987ef7",
   "metadata": {},
   "outputs": [
    {
     "name": "stdout",
     "output_type": "stream",
     "text": [
      "Combined unique symptoms from both datasets:\n",
      "['itching' ' skin_rash' ' continuous_sneezing' ' shivering'\n",
      " ' stomach_pain' ' acidity' ' vomiting' ' indigestion' ' muscle_wasting'\n",
      " ' patches_in_throat' ' fatigue' ' weight_loss' ' sunken_eyes' ' cough'\n",
      " ' headache' ' chest_pain' ' back_pain' ' weakness_in_limbs' ' chills'\n",
      " ' joint_pain' ' yellowish_skin' ' constipation'\n",
      " ' pain_during_bowel_movements' ' breathlessness' ' cramps' ' weight_gain'\n",
      " ' mood_swings' ' neck_pain' ' muscle_weakness' ' stiff_neck'\n",
      " ' pus_filled_pimples' ' burning_micturition' ' bladder_discomfort'\n",
      " ' high_fever' ' nodal_skin_eruptions' ' ulcers_on_tongue'\n",
      " ' loss_of_appetite' ' restlessness' ' dehydration' ' dizziness'\n",
      " ' weakness_of_one_body_side' ' lethargy' ' nausea' ' abdominal_pain'\n",
      " ' pain_in_anal_region' ' sweating' ' bruising' ' cold_hands_and_feets'\n",
      " ' anxiety' ' knee_pain' ' swelling_joints' ' blackheads'\n",
      " ' foul_smell_of urine' ' skin_peeling' ' blister' ' dischromic _patches'\n",
      " ' watering_from_eyes' ' extra_marital_contacts' ' diarrhoea'\n",
      " ' loss_of_balance' ' blurred_and_distorted_vision' ' altered_sensorium'\n",
      " ' dark_urine' ' swelling_of_stomach' ' bloody_stool' ' obesity'\n",
      " ' hip_joint_pain' ' movement_stiffness' ' spinning_movements' ' scurring'\n",
      " ' continuous_feel_of_urine' ' silver_like_dusting'\n",
      " ' red_sore_around_nose' '' ' spotting_ urination' ' passage_of_gases'\n",
      " ' irregular_sugar_level' ' family_history' ' lack_of_concentration'\n",
      " ' excessive_hunger' ' yellowing_of_eyes' ' distention_of_abdomen'\n",
      " ' irritation_in_anus' ' swollen_legs' ' painful_walking'\n",
      " ' small_dents_in_nails' ' yellow_crust_ooze' ' internal_itching'\n",
      " ' mucoid_sputum' ' history_of_alcohol_consumption'\n",
      " ' swollen_blood_vessels' ' unsteadiness' ' inflammatory_nails'\n",
      " ' depression' ' fluid_overload' ' swelled_lymph_nodes' ' malaise'\n",
      " ' prominent_veins_on_calf' ' puffy_face_and_eyes' ' fast_heart_rate'\n",
      " ' irritability' ' muscle_pain' ' mild_fever' ' yellow_urine' ' phlegm'\n",
      " ' enlarged_thyroid' ' increased_appetite' ' visual_disturbances'\n",
      " ' brittle_nails' ' drying_and_tingling_lips' ' polyuria'\n",
      " ' pain_behind_the_eyes' ' toxic_look_(typhos)' ' throat_irritation'\n",
      " ' swollen_extremeties' ' slurred_speech' ' red_spots_over_body'\n",
      " ' belly_pain' ' receiving_blood_transfusion' ' acute_liver_failure'\n",
      " ' redness_of_eyes' ' rusty_sputum' ' abnormal_menstruation'\n",
      " ' receiving_unsterile_injections' ' coma' ' sinus_pressure'\n",
      " ' palpitations' ' stomach_bleeding' ' runny_nose' ' congestion'\n",
      " ' blood_in_sputum' ' loss_of_smell' 'skin_rash' 'nodal_skin_eruptions'\n",
      " 'continuous_sneezing' 'shivering' 'chills' 'joint_pain' 'stomach_pain'\n",
      " 'acidity' 'ulcers_on_tongue' 'muscle_wasting' 'vomiting'\n",
      " 'burning_micturition' 'spotting_urination' 'fatigue' 'weight_gain'\n",
      " 'anxiety' 'cold_hands_and_feets' 'mood_swings' 'weight_loss'\n",
      " 'restlessness' 'lethargy' 'patches_in_throat' 'irregular_sugar_level'\n",
      " 'cough' 'high_fever' 'sunken_eyes' 'breathlessness' 'sweating'\n",
      " 'dehydration' 'indigestion' 'headache' 'yellowish_skin' 'dark_urine'\n",
      " 'nausea' 'loss_of_appetite' 'pain_behind_the_eyes' 'back_pain'\n",
      " 'constipation' 'abdominal_pain' 'diarrhoea' 'mild_fever' 'yellow_urine'\n",
      " 'yellowing_of_eyes' 'acute_liver_failure' 'fluid_overload'\n",
      " 'swelling_of_stomach' 'swelled_lymph_nodes' 'malaise'\n",
      " 'blurred_and_distorted_vision' 'phlegm' 'throat_irritation'\n",
      " 'redness_of_eyes' 'sinus_pressure' 'runny_nose' 'congestion' 'chest_pain'\n",
      " 'weakness_in_limbs' 'fast_heart_rate' 'pain_during_bowel_movements'\n",
      " 'pain_in_anal_region' 'bloody_stool' 'irritation_in_anus' 'neck_pain'\n",
      " 'dizziness' 'cramps' 'bruising' 'obesity' 'swollen_legs'\n",
      " 'swollen_blood_vessels' 'puffy_face_and_eyes' 'enlarged_thyroid'\n",
      " 'brittle_nails' 'swollen_extremeties' 'excessive_hunger'\n",
      " 'extra_marital_contacts' 'drying_and_tingling_lips' 'slurred_speech'\n",
      " 'knee_pain' 'hip_joint_pain' 'muscle_weakness' 'stiff_neck'\n",
      " 'swelling_joints' 'movement_stiffness' 'spinning_movements'\n",
      " 'loss_of_balance' 'unsteadiness' 'weakness_of_one_body_side'\n",
      " 'loss_of_smell' 'bladder_discomfort' 'foul_smell_ofurine'\n",
      " 'continuous_feel_of_urine' 'passage_of_gases' 'internal_itching'\n",
      " 'toxic_look_(typhos)' 'depression' 'irritability' 'muscle_pain'\n",
      " 'altered_sensorium' 'red_spots_over_body' 'belly_pain'\n",
      " 'abnormal_menstruation' 'dischromic_patches' 'watering_from_eyes'\n",
      " 'increased_appetite' 'polyuria' 'family_history' 'mucoid_sputum'\n",
      " 'rusty_sputum' 'lack_of_concentration' 'visual_disturbances'\n",
      " 'receiving_blood_transfusion' 'receiving_unsterile_injections' 'coma'\n",
      " 'stomach_bleeding' 'distention_of_abdomen'\n",
      " 'history_of_alcohol_consumption' 'blood_in_sputum'\n",
      " 'prominent_veins_on_calf' 'palpitations' 'painful_walking'\n",
      " 'pus_filled_pimples' 'blackheads' 'scurring' 'skin_peeling'\n",
      " 'silver_like_dusting' 'small_dents_in_nails' 'inflammatory_nails'\n",
      " 'blister' 'red_sore_around_nose' 'yellow_crust_ooze' 'prognosis']\n"
     ]
    }
   ],
   "source": [
    "unique_symptoms_severity = pd.unique(ss_data['Symptom'].values)\n",
    "\n",
    "unique_symptoms_main = [symptom for symptom in unique_symptoms_main if isinstance(symptom, str)]\n",
    "unique_symptoms_severity = [symptom for symptom in unique_symptoms_severity if isinstance(symptom, str)]\n",
    "\n",
    "combined_unique_symptoms = pd.unique(pd.concat([pd.Series(unique_symptoms_main), pd.Series(unique_symptoms_severity)]))\n",
    "\n",
    "print(\"Combined unique symptoms from both datasets:\")\n",
    "print(combined_unique_symptoms)"
   ]
  },
  {
   "cell_type": "code",
   "execution_count": 5,
   "id": "0e91f1ab-dd1e-4226-90bd-38bd23e25478",
   "metadata": {},
   "outputs": [
    {
     "name": "stdout",
     "output_type": "stream",
     "text": [
      "Classes of the encoder for symptoms: \n",
      "['' ' abdominal_pain' ' abnormal_menstruation' ' acidity'\n",
      " ' acute_liver_failure' ' altered_sensorium' ' anxiety' ' back_pain'\n",
      " ' belly_pain' ' blackheads' ' bladder_discomfort' ' blister'\n",
      " ' blood_in_sputum' ' bloody_stool' ' blurred_and_distorted_vision'\n",
      " ' breathlessness' ' brittle_nails' ' bruising' ' burning_micturition'\n",
      " ' chest_pain' ' chills' ' cold_hands_and_feets' ' coma' ' congestion'\n",
      " ' constipation' ' continuous_feel_of_urine' ' continuous_sneezing'\n",
      " ' cough' ' cramps' ' dark_urine' ' dehydration' ' depression'\n",
      " ' diarrhoea' ' dischromic _patches' ' distention_of_abdomen' ' dizziness'\n",
      " ' drying_and_tingling_lips' ' enlarged_thyroid' ' excessive_hunger'\n",
      " ' extra_marital_contacts' ' family_history' ' fast_heart_rate' ' fatigue'\n",
      " ' fluid_overload' ' foul_smell_of urine' ' headache' ' high_fever'\n",
      " ' hip_joint_pain' ' history_of_alcohol_consumption' ' increased_appetite'\n",
      " ' indigestion' ' inflammatory_nails' ' internal_itching'\n",
      " ' irregular_sugar_level' ' irritability' ' irritation_in_anus'\n",
      " ' joint_pain' ' knee_pain' ' lack_of_concentration' ' lethargy'\n",
      " ' loss_of_appetite' ' loss_of_balance' ' loss_of_smell' ' malaise'\n",
      " ' mild_fever' ' mood_swings' ' movement_stiffness' ' mucoid_sputum'\n",
      " ' muscle_pain' ' muscle_wasting' ' muscle_weakness' ' nausea'\n",
      " ' neck_pain' ' nodal_skin_eruptions' ' obesity' ' pain_behind_the_eyes'\n",
      " ' pain_during_bowel_movements' ' pain_in_anal_region' ' painful_walking'\n",
      " ' palpitations' ' passage_of_gases' ' patches_in_throat' ' phlegm'\n",
      " ' polyuria' ' prominent_veins_on_calf' ' puffy_face_and_eyes'\n",
      " ' pus_filled_pimples' ' receiving_blood_transfusion'\n",
      " ' receiving_unsterile_injections' ' red_sore_around_nose'\n",
      " ' red_spots_over_body' ' redness_of_eyes' ' restlessness' ' runny_nose'\n",
      " ' rusty_sputum' ' scurring' ' shivering' ' silver_like_dusting'\n",
      " ' sinus_pressure' ' skin_peeling' ' skin_rash' ' slurred_speech'\n",
      " ' small_dents_in_nails' ' spinning_movements' ' spotting_ urination'\n",
      " ' stiff_neck' ' stomach_bleeding' ' stomach_pain' ' sunken_eyes'\n",
      " ' sweating' ' swelled_lymph_nodes' ' swelling_joints'\n",
      " ' swelling_of_stomach' ' swollen_blood_vessels' ' swollen_extremeties'\n",
      " ' swollen_legs' ' throat_irritation' ' toxic_look_(typhos)'\n",
      " ' ulcers_on_tongue' ' unsteadiness' ' visual_disturbances' ' vomiting'\n",
      " ' watering_from_eyes' ' weakness_in_limbs' ' weakness_of_one_body_side'\n",
      " ' weight_gain' ' weight_loss' ' yellow_crust_ooze' ' yellow_urine'\n",
      " ' yellowing_of_eyes' ' yellowish_skin' 'abdominal_pain'\n",
      " 'abnormal_menstruation' 'acidity' 'acute_liver_failure'\n",
      " 'altered_sensorium' 'anxiety' 'back_pain' 'belly_pain' 'blackheads'\n",
      " 'bladder_discomfort' 'blister' 'blood_in_sputum' 'bloody_stool'\n",
      " 'blurred_and_distorted_vision' 'breathlessness' 'brittle_nails'\n",
      " 'bruising' 'burning_micturition' 'chest_pain' 'chills'\n",
      " 'cold_hands_and_feets' 'coma' 'congestion' 'constipation'\n",
      " 'continuous_feel_of_urine' 'continuous_sneezing' 'cough' 'cramps'\n",
      " 'dark_urine' 'dehydration' 'depression' 'diarrhoea' 'dischromic_patches'\n",
      " 'distention_of_abdomen' 'dizziness' 'drying_and_tingling_lips'\n",
      " 'enlarged_thyroid' 'excessive_hunger' 'extra_marital_contacts'\n",
      " 'family_history' 'fast_heart_rate' 'fatigue' 'fluid_overload'\n",
      " 'foul_smell_ofurine' 'headache' 'high_fever' 'hip_joint_pain'\n",
      " 'history_of_alcohol_consumption' 'increased_appetite' 'indigestion'\n",
      " 'inflammatory_nails' 'internal_itching' 'irregular_sugar_level'\n",
      " 'irritability' 'irritation_in_anus' 'itching' 'joint_pain' 'knee_pain'\n",
      " 'lack_of_concentration' 'lethargy' 'loss_of_appetite' 'loss_of_balance'\n",
      " 'loss_of_smell' 'malaise' 'mild_fever' 'mood_swings' 'movement_stiffness'\n",
      " 'mucoid_sputum' 'muscle_pain' 'muscle_wasting' 'muscle_weakness' 'nausea'\n",
      " 'neck_pain' 'nodal_skin_eruptions' 'obesity' 'pain_behind_the_eyes'\n",
      " 'pain_during_bowel_movements' 'pain_in_anal_region' 'painful_walking'\n",
      " 'palpitations' 'passage_of_gases' 'patches_in_throat' 'phlegm' 'polyuria'\n",
      " 'prognosis' 'prominent_veins_on_calf' 'puffy_face_and_eyes'\n",
      " 'pus_filled_pimples' 'receiving_blood_transfusion'\n",
      " 'receiving_unsterile_injections' 'red_sore_around_nose'\n",
      " 'red_spots_over_body' 'redness_of_eyes' 'restlessness' 'runny_nose'\n",
      " 'rusty_sputum' 'scurring' 'shivering' 'silver_like_dusting'\n",
      " 'sinus_pressure' 'skin_peeling' 'skin_rash' 'slurred_speech'\n",
      " 'small_dents_in_nails' 'spinning_movements' 'spotting_urination'\n",
      " 'stiff_neck' 'stomach_bleeding' 'stomach_pain' 'sunken_eyes' 'sweating'\n",
      " 'swelled_lymph_nodes' 'swelling_joints' 'swelling_of_stomach'\n",
      " 'swollen_blood_vessels' 'swollen_extremeties' 'swollen_legs'\n",
      " 'throat_irritation' 'toxic_look_(typhos)' 'ulcers_on_tongue'\n",
      " 'unsteadiness' 'visual_disturbances' 'vomiting' 'watering_from_eyes'\n",
      " 'weakness_in_limbs' 'weakness_of_one_body_side' 'weight_gain'\n",
      " 'weight_loss' 'yellow_crust_ooze' 'yellow_urine' 'yellowing_of_eyes'\n",
      " 'yellowish_skin']\n"
     ]
    }
   ],
   "source": [
    "le_symptoms = LabelEncoder()\n",
    "le_symptoms.fit(combined_unique_symptoms)\n",
    "\n",
    "print(\"Classes of the encoder for symptoms: \")\n",
    "print(le_symptoms.classes_)"
   ]
  },
  {
   "cell_type": "code",
   "execution_count": 6,
   "id": "c74d4e02-a392-45ea-a9e5-5c9f40a5f4dd",
   "metadata": {},
   "outputs": [
    {
     "name": "stdout",
     "output_type": "stream",
     "text": [
      "First rows with the encoded symptom columns:\n",
      "            Disease  Symptom_1  Symptom_2  Symptom_3  Symptom_4  Symptom_5  \\\n",
      "0  Fungal infection        186        100         73         33          0   \n",
      "1  Fungal infection        100         73         33          0          0   \n",
      "2  Fungal infection        186         73         33          0          0   \n",
      "3  Fungal infection        186        100         33          0          0   \n",
      "4  Fungal infection        186        100         73          0          0   \n",
      "\n",
      "   Symptom_6  Symptom_7  Symptom_8  Symptom_9  Symptom_10  Symptom_11  \\\n",
      "0          0          0          0          0           0           0   \n",
      "1          0          0          0          0           0           0   \n",
      "2          0          0          0          0           0           0   \n",
      "3          0          0          0          0           0           0   \n",
      "4          0          0          0          0           0           0   \n",
      "\n",
      "   Symptom_12  Symptom_13  Symptom_14  Symptom_15  Symptom_16  Symptom_17  \n",
      "0           0           0           0           0           0           0  \n",
      "1           0           0           0           0           0           0  \n",
      "2           0           0           0           0           0           0  \n",
      "3           0           0           0           0           0           0  \n",
      "4           0           0           0           0           0           0  \n"
     ]
    }
   ],
   "source": [
    "for col in symptoms:\n",
    "    data_set_df[col] = le_symptoms.transform(data_set_df[col].fillna(''))\n",
    "\n",
    "print(\"First rows with the encoded symptom columns:\")\n",
    "print(data_set_df.head())"
   ]
  },
  {
   "cell_type": "code",
   "execution_count": 7,
   "id": "6c97b369-f2af-4181-989e-b630e3d7e3b6",
   "metadata": {},
   "outputs": [
    {
     "name": "stdout",
     "output_type": "stream",
     "text": [
      "Encoded symptoms using the symptoms encoder:\n",
      "   Symptom  weight\n",
      "0      186       1\n",
      "1      232       3\n",
      "2      204       4\n",
      "3      156       4\n",
      "4      228       5\n"
     ]
    }
   ],
   "source": [
    "ss_data['Symptom'] = le_symptoms.transform(ss_data['Symptom'].apply(str).fillna(''))\n",
    "\n",
    "print(\"Encoded symptoms using the symptoms encoder:\")\n",
    "print(ss_data.head())"
   ]
  },
  {
   "cell_type": "code",
   "execution_count": 8,
   "id": "67f1d91a-6777-4b84-b547-6293bd3caf0d",
   "metadata": {},
   "outputs": [
    {
     "name": "stdout",
     "output_type": "stream",
     "text": [
      "First few rows of the dataset with encoded Disease column:\n",
      "   Disease  Symptom_1  Symptom_2  Symptom_3  Symptom_4  Symptom_5  Symptom_6  \\\n",
      "0       15        186        100         73         33          0          0   \n",
      "1       15        100         73         33          0          0          0   \n",
      "2       15        186         73         33          0          0          0   \n",
      "3       15        186        100         33          0          0          0   \n",
      "4       15        186        100         73          0          0          0   \n",
      "\n",
      "   Symptom_7  Symptom_8  Symptom_9  Symptom_10  Symptom_11  Symptom_12  \\\n",
      "0          0          0          0           0           0           0   \n",
      "1          0          0          0           0           0           0   \n",
      "2          0          0          0           0           0           0   \n",
      "3          0          0          0           0           0           0   \n",
      "4          0          0          0           0           0           0   \n",
      "\n",
      "   Symptom_13  Symptom_14  Symptom_15  Symptom_16  Symptom_17  \n",
      "0           0           0           0           0           0  \n",
      "1           0           0           0           0           0  \n",
      "2           0           0           0           0           0  \n",
      "3           0           0           0           0           0  \n",
      "4           0           0           0           0           0  \n"
     ]
    }
   ],
   "source": [
    "le_disease = LabelEncoder()\n",
    "\n",
    "data_set_df['Disease'] = le_disease.fit_transform(data_set_df['Disease'])\n",
    "\n",
    "print(\"First few rows of the dataset with encoded Disease column:\")\n",
    "print(data_set_df.head())"
   ]
  },
  {
   "cell_type": "code",
   "execution_count": 9,
   "id": "8396251f-fd04-4700-afec-56d65d420113",
   "metadata": {},
   "outputs": [
    {
     "name": "stdout",
     "output_type": "stream",
     "text": [
      "Encoded main dataset saved to ../../datasets/encoded_main_dataset.csv\n"
     ]
    }
   ],
   "source": [
    "encoded_main_dataset_path = '../../datasets/encoded_main_dataset.csv'\n",
    "data_set_df.to_csv(encoded_main_dataset_path, index=False)\n",
    "print(f\"Encoded main dataset saved to {encoded_main_dataset_path}\")"
   ]
  },
  {
   "cell_type": "code",
   "execution_count": 10,
   "id": "08515270-df31-4e05-88d0-0a6235e1f5cf",
   "metadata": {},
   "outputs": [
    {
     "name": "stdout",
     "output_type": "stream",
     "text": [
      "Encoded symptom severity data saved to ../../datasets/encoded_symptom_severity.csv\n"
     ]
    }
   ],
   "source": [
    "encoded_symptom_severity_path = '../../datasets/encoded_symptom_severity.csv'\n",
    "ss_data.to_csv(encoded_symptom_severity_path, index=False)\n",
    "print(f\"Encoded symptom severity data saved to {encoded_symptom_severity_path}\")"
   ]
  },
  {
   "cell_type": "code",
   "execution_count": null,
   "id": "cb8bd0dc-49c9-408d-84d5-591f98d81f8d",
   "metadata": {},
   "outputs": [],
   "source": []
  }
 ],
 "metadata": {
  "kernelspec": {
   "display_name": "Python 3 (ipykernel)",
   "language": "python",
   "name": "python3"
  },
  "language_info": {
   "codemirror_mode": {
    "name": "ipython",
    "version": 3
   },
   "file_extension": ".py",
   "mimetype": "text/x-python",
   "name": "python",
   "nbconvert_exporter": "python",
   "pygments_lexer": "ipython3",
   "version": "3.11.9"
  }
 },
 "nbformat": 4,
 "nbformat_minor": 5
}
