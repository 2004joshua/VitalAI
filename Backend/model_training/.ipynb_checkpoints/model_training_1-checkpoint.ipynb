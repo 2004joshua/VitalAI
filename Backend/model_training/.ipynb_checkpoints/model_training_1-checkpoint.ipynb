{
 "cells": [
  {
   "cell_type": "code",
   "execution_count": 2,
   "id": "b573fc00-4997-47cb-931d-d18a9b556b73",
   "metadata": {},
   "outputs": [],
   "source": [
    "#This is the first iteration of training the model\n",
    "#Im using a kaggle course to teach me how to train this model"
   ]
  },
  {
   "cell_type": "code",
   "execution_count": null,
   "id": "f89d369f-245f-4de3-901d-4df8ca6f4a3d",
   "metadata": {},
   "outputs": [],
   "source": [
    "import pandas as pd\n",
    "\n"
   ]
  }
 ],
 "metadata": {
  "kernelspec": {
   "display_name": "Python 3 (ipykernel)",
   "language": "python",
   "name": "python3"
  },
  "language_info": {
   "codemirror_mode": {
    "name": "ipython",
    "version": 3
   },
   "file_extension": ".py",
   "mimetype": "text/x-python",
   "name": "python",
   "nbconvert_exporter": "python",
   "pygments_lexer": "ipython3",
   "version": "3.11.7"
  }
 },
 "nbformat": 4,
 "nbformat_minor": 5
}
